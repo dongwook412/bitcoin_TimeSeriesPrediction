{
 "cells": [
  {
   "cell_type": "code",
   "execution_count": 6,
   "id": "5ef2358a",
   "metadata": {},
   "outputs": [],
   "source": [
    "import numpy as np\n",
    "import pandas as pd"
   ]
  },
  {
   "cell_type": "markdown",
   "id": "f0129b31",
   "metadata": {},
   "source": [
    "# 1. OK 데이터 : 휴폐업 이력이 없고 현재까지 영업중인 기업"
   ]
  },
  {
   "cell_type": "code",
   "execution_count": 9,
   "id": "8321d064",
   "metadata": {},
   "outputs": [],
   "source": [
    "# Data Loading : 액티브 중소법인 재무보유 -> 기업개요 \n",
    "active_info = pd.read_csv('./raw_data/active_info.csv')"
   ]
  },
  {
   "cell_type": "code",
   "execution_count": 14,
   "id": "cecacd5a",
   "metadata": {},
   "outputs": [],
   "source": [
    "# Data Loading :  액티브 중소범인 재무보유 -> 기업개요_외감\n",
    "#기업 외감(External Auditor) : 외감*: 외감(외감법인)은 주식회사 중 자산총액이 120억이 넘는 회사로, 회계법인으로부터 의무적으로 회계감사를 받아야 함.\n",
    "active_EA = pd.read_csv('./raw_data/active_EA_info.csv')"
   ]
  },
  {
   "cell_type": "code",
   "execution_count": 15,
   "id": "661662aa",
   "metadata": {},
   "outputs": [],
   "source": [
    "# Data loading : 액티브 중소법인 재무보유 -> 휴폐업이력\n",
    "active_history = pd.read_csv('./raw_data/active_history.csv')"
   ]
  },
  {
   "cell_type": "code",
   "execution_count": 23,
   "id": "af51b2b7",
   "metadata": {},
   "outputs": [],
   "source": [
    "# BIZ_NO 기준으로 액티브 중소법인 기업 외감  - 기업 휴폐업 이력 join\n",
    "df = pd.merge(active_EA, active_history, on = 'BIZ_NO', how  = 'outer')"
   ]
  },
  {
   "cell_type": "code",
   "execution_count": 84,
   "id": "f0fdcaa7",
   "metadata": {},
   "outputs": [],
   "source": [
    "# OK데이터 = 휴폐업 이력이 없는 기업\n",
    "# END_DATA가 존재하면 휴폐업 이력이 있는것이므로 해당 기업 drop\n",
    "OK = df[df['END_DATE'].isna()]"
   ]
  },
  {
   "cell_type": "code",
   "execution_count": 28,
   "id": "3108a5da",
   "metadata": {},
   "outputs": [],
   "source": [
    "# OK 데이터 인덱스 리셋\n",
    "OK = OK.reset_index(drop = True)\n",
    "# OK label : 0\n",
    "OK['label'] = 0"
   ]
  },
  {
   "cell_type": "markdown",
   "id": "2d120173",
   "metadata": {},
   "source": [
    "# 2. NG 데이터 : 폐업한 기업(CLSBZ_GB = 3)"
   ]
  },
  {
   "cell_type": "code",
   "execution_count": 33,
   "id": "e8e3e326",
   "metadata": {},
   "outputs": [],
   "source": [
    "# Data loading : 휴폐업 중소법인 재무보유 -> 기업개요 \n",
    "closed_info = pd.read_csv('./raw_data/closed_info.csv')"
   ]
  },
  {
   "cell_type": "code",
   "execution_count": 86,
   "id": "f83c26fe",
   "metadata": {},
   "outputs": [],
   "source": [
    "# DATA loading : 휴폐업 중소법인 재무보유 -> 휴폐업이력\n",
    "closed_history  = pd.read_csv('./raw_data/closed_history.csv')"
   ]
  },
  {
   "cell_type": "code",
   "execution_count": 87,
   "id": "1e808321",
   "metadata": {},
   "outputs": [
    {
     "data": {
      "text/plain": [
       "3    6838\n",
       "6       1\n",
       "5       1\n",
       "Name: CLSBZ_GB, dtype: int64"
      ]
     },
     "execution_count": 87,
     "metadata": {},
     "output_type": "execute_result"
    }
   ],
   "source": [
    "# 휴폐업 이력 코드 확인\n",
    "closed_history['CLSBZ_GB'].value_counts()"
   ]
  },
  {
   "cell_type": "code",
   "execution_count": 89,
   "id": "a484f263",
   "metadata": {},
   "outputs": [],
   "source": [
    "# 폐업(3) 데이터만 사용\n",
    "closed_history = closed_history[closed_history['CLSBZ_GB'] == 3].reset_index(drop = True)"
   ]
  },
  {
   "cell_type": "code",
   "execution_count": 96,
   "id": "441afe7d",
   "metadata": {},
   "outputs": [],
   "source": [
    "# BIZ_NO 기준으로 휴폐업 중소법인 기업개요  - 휴폐업 이력 join\n",
    "df = pd.merge(closed_info, closed_history, on = 'BIZ_NO', how = 'outer')"
   ]
  },
  {
   "cell_type": "code",
   "execution_count": 93,
   "id": "87cd7ada",
   "metadata": {},
   "outputs": [],
   "source": [
    "# NG데이터 = 폐업한 기업\n",
    "# 폐업 이력 매칭되지 않은 row 제거\n",
    "NG = df[~df['EMP_CNT'].isna()].reset_index(drop = True)\n",
    "# NG데이터 인덱스 리셋\n",
    "NG = NG.reset_index(drop = True)\n",
    "# NG label : 1\n",
    "NG['label'] = 1"
   ]
  },
  {
   "cell_type": "markdown",
   "id": "ca2f5a8d",
   "metadata": {},
   "source": [
    "# 3. 재무데이터 매칭"
   ]
  },
  {
   "cell_type": "code",
   "execution_count": 53,
   "id": "9a21c2f5",
   "metadata": {},
   "outputs": [],
   "source": [
    "# Data loading : 재무데이터.txt\n",
    "finance = pd.read_csv('./raw_data/finance.txt', sep=\"\\t\", encoding = 'cp949')"
   ]
  },
  {
   "cell_type": "code",
   "execution_count": 54,
   "id": "448742c1",
   "metadata": {},
   "outputs": [],
   "source": [
    "# OK, NG 데이터와 매칭을 위해 key column명 동일하게 변경\n",
    "finance = finance.rename(columns = {'사업자번호':'BIZ_NO'})"
   ]
  },
  {
   "cell_type": "code",
   "execution_count": 55,
   "id": "d70f472e",
   "metadata": {},
   "outputs": [
    {
     "data": {
      "text/html": [
       "<div>\n",
       "<style scoped>\n",
       "    .dataframe tbody tr th:only-of-type {\n",
       "        vertical-align: middle;\n",
       "    }\n",
       "\n",
       "    .dataframe tbody tr th {\n",
       "        vertical-align: top;\n",
       "    }\n",
       "\n",
       "    .dataframe thead th {\n",
       "        text-align: right;\n",
       "    }\n",
       "</style>\n",
       "<table border=\"1\" class=\"dataframe\">\n",
       "  <thead>\n",
       "    <tr style=\"text-align: right;\">\n",
       "      <th></th>\n",
       "      <th>BIZ_NO</th>\n",
       "      <th>결산년월</th>\n",
       "      <th>유동자산</th>\n",
       "      <th>매출채권</th>\n",
       "      <th>비유동자산</th>\n",
       "      <th>유형자산</th>\n",
       "      <th>자산총계</th>\n",
       "      <th>유동부채</th>\n",
       "      <th>비유동부채</th>\n",
       "      <th>부  채  총  계</th>\n",
       "      <th>...</th>\n",
       "      <th>비유동부채비율(%)</th>\n",
       "      <th>부채총계대 매출액(%)</th>\n",
       "      <th>총자본회전율(회)</th>\n",
       "      <th>재고자산회전율(회)</th>\n",
       "      <th>매출채권회전율(회)</th>\n",
       "      <th>매입채무회전율(회)</th>\n",
       "      <th>미수금</th>\n",
       "      <th>매출원가</th>\n",
       "      <th>무형자산</th>\n",
       "      <th>재고자산</th>\n",
       "    </tr>\n",
       "  </thead>\n",
       "  <tbody>\n",
       "    <tr>\n",
       "      <th>280</th>\n",
       "      <td>1018164892</td>\n",
       "      <td>20191231</td>\n",
       "      <td>NaN</td>\n",
       "      <td>NaN</td>\n",
       "      <td>NaN</td>\n",
       "      <td>NaN</td>\n",
       "      <td>NaN</td>\n",
       "      <td>NaN</td>\n",
       "      <td>NaN</td>\n",
       "      <td>NaN</td>\n",
       "      <td>...</td>\n",
       "      <td>1.000000e+12</td>\n",
       "      <td>8.888889e+11</td>\n",
       "      <td>1.000000e+12</td>\n",
       "      <td>1.000000e+12</td>\n",
       "      <td>1.000000e+12</td>\n",
       "      <td>1.000000e+12</td>\n",
       "      <td>NaN</td>\n",
       "      <td>NaN</td>\n",
       "      <td>NaN</td>\n",
       "      <td>NaN</td>\n",
       "    </tr>\n",
       "    <tr>\n",
       "      <th>281</th>\n",
       "      <td>1018164892</td>\n",
       "      <td>20201231</td>\n",
       "      <td>NaN</td>\n",
       "      <td>NaN</td>\n",
       "      <td>NaN</td>\n",
       "      <td>NaN</td>\n",
       "      <td>NaN</td>\n",
       "      <td>NaN</td>\n",
       "      <td>NaN</td>\n",
       "      <td>NaN</td>\n",
       "      <td>...</td>\n",
       "      <td>1.000000e+12</td>\n",
       "      <td>8.888889e+11</td>\n",
       "      <td>1.000000e+12</td>\n",
       "      <td>1.000000e+12</td>\n",
       "      <td>1.000000e+12</td>\n",
       "      <td>1.000000e+12</td>\n",
       "      <td>NaN</td>\n",
       "      <td>NaN</td>\n",
       "      <td>NaN</td>\n",
       "      <td>NaN</td>\n",
       "    </tr>\n",
       "    <tr>\n",
       "      <th>282</th>\n",
       "      <td>1018164892</td>\n",
       "      <td>20211231</td>\n",
       "      <td>NaN</td>\n",
       "      <td>NaN</td>\n",
       "      <td>NaN</td>\n",
       "      <td>NaN</td>\n",
       "      <td>NaN</td>\n",
       "      <td>NaN</td>\n",
       "      <td>NaN</td>\n",
       "      <td>NaN</td>\n",
       "      <td>...</td>\n",
       "      <td>1.000000e+12</td>\n",
       "      <td>8.888889e+11</td>\n",
       "      <td>1.000000e+12</td>\n",
       "      <td>1.000000e+12</td>\n",
       "      <td>1.000000e+12</td>\n",
       "      <td>1.000000e+12</td>\n",
       "      <td>NaN</td>\n",
       "      <td>NaN</td>\n",
       "      <td>NaN</td>\n",
       "      <td>NaN</td>\n",
       "    </tr>\n",
       "    <tr>\n",
       "      <th>336</th>\n",
       "      <td>1018179639</td>\n",
       "      <td>20191231</td>\n",
       "      <td>NaN</td>\n",
       "      <td>NaN</td>\n",
       "      <td>NaN</td>\n",
       "      <td>NaN</td>\n",
       "      <td>NaN</td>\n",
       "      <td>NaN</td>\n",
       "      <td>NaN</td>\n",
       "      <td>NaN</td>\n",
       "      <td>...</td>\n",
       "      <td>NaN</td>\n",
       "      <td>NaN</td>\n",
       "      <td>1.000000e+12</td>\n",
       "      <td>1.000000e+12</td>\n",
       "      <td>NaN</td>\n",
       "      <td>NaN</td>\n",
       "      <td>NaN</td>\n",
       "      <td>NaN</td>\n",
       "      <td>NaN</td>\n",
       "      <td>NaN</td>\n",
       "    </tr>\n",
       "    <tr>\n",
       "      <th>337</th>\n",
       "      <td>1018179639</td>\n",
       "      <td>20201231</td>\n",
       "      <td>NaN</td>\n",
       "      <td>NaN</td>\n",
       "      <td>NaN</td>\n",
       "      <td>NaN</td>\n",
       "      <td>NaN</td>\n",
       "      <td>NaN</td>\n",
       "      <td>NaN</td>\n",
       "      <td>NaN</td>\n",
       "      <td>...</td>\n",
       "      <td>1.000000e+12</td>\n",
       "      <td>8.888889e+11</td>\n",
       "      <td>1.000000e+12</td>\n",
       "      <td>1.000000e+12</td>\n",
       "      <td>1.000000e+12</td>\n",
       "      <td>1.000000e+12</td>\n",
       "      <td>NaN</td>\n",
       "      <td>NaN</td>\n",
       "      <td>NaN</td>\n",
       "      <td>NaN</td>\n",
       "    </tr>\n",
       "    <tr>\n",
       "      <th>...</th>\n",
       "      <td>...</td>\n",
       "      <td>...</td>\n",
       "      <td>...</td>\n",
       "      <td>...</td>\n",
       "      <td>...</td>\n",
       "      <td>...</td>\n",
       "      <td>...</td>\n",
       "      <td>...</td>\n",
       "      <td>...</td>\n",
       "      <td>...</td>\n",
       "      <td>...</td>\n",
       "      <td>...</td>\n",
       "      <td>...</td>\n",
       "      <td>...</td>\n",
       "      <td>...</td>\n",
       "      <td>...</td>\n",
       "      <td>...</td>\n",
       "      <td>...</td>\n",
       "      <td>...</td>\n",
       "      <td>...</td>\n",
       "      <td>...</td>\n",
       "    </tr>\n",
       "    <tr>\n",
       "      <th>61737</th>\n",
       "      <td>3018635288</td>\n",
       "      <td>20210930</td>\n",
       "      <td>NaN</td>\n",
       "      <td>NaN</td>\n",
       "      <td>NaN</td>\n",
       "      <td>NaN</td>\n",
       "      <td>NaN</td>\n",
       "      <td>NaN</td>\n",
       "      <td>NaN</td>\n",
       "      <td>NaN</td>\n",
       "      <td>...</td>\n",
       "      <td>1.000000e+12</td>\n",
       "      <td>8.888889e+11</td>\n",
       "      <td>1.000000e+12</td>\n",
       "      <td>1.000000e+12</td>\n",
       "      <td>1.000000e+12</td>\n",
       "      <td>1.000000e+12</td>\n",
       "      <td>NaN</td>\n",
       "      <td>NaN</td>\n",
       "      <td>NaN</td>\n",
       "      <td>NaN</td>\n",
       "    </tr>\n",
       "    <tr>\n",
       "      <th>61738</th>\n",
       "      <td>3018635288</td>\n",
       "      <td>20211231</td>\n",
       "      <td>NaN</td>\n",
       "      <td>NaN</td>\n",
       "      <td>NaN</td>\n",
       "      <td>NaN</td>\n",
       "      <td>NaN</td>\n",
       "      <td>NaN</td>\n",
       "      <td>NaN</td>\n",
       "      <td>NaN</td>\n",
       "      <td>...</td>\n",
       "      <td>1.000000e+12</td>\n",
       "      <td>8.888889e+11</td>\n",
       "      <td>1.000000e+12</td>\n",
       "      <td>1.000000e+12</td>\n",
       "      <td>1.000000e+12</td>\n",
       "      <td>1.000000e+12</td>\n",
       "      <td>NaN</td>\n",
       "      <td>NaN</td>\n",
       "      <td>NaN</td>\n",
       "      <td>NaN</td>\n",
       "    </tr>\n",
       "    <tr>\n",
       "      <th>61781</th>\n",
       "      <td>3028107140</td>\n",
       "      <td>20191231</td>\n",
       "      <td>NaN</td>\n",
       "      <td>NaN</td>\n",
       "      <td>NaN</td>\n",
       "      <td>NaN</td>\n",
       "      <td>NaN</td>\n",
       "      <td>NaN</td>\n",
       "      <td>NaN</td>\n",
       "      <td>NaN</td>\n",
       "      <td>...</td>\n",
       "      <td>1.000000e+12</td>\n",
       "      <td>8.888889e+11</td>\n",
       "      <td>1.000000e+12</td>\n",
       "      <td>1.000000e+12</td>\n",
       "      <td>1.000000e+12</td>\n",
       "      <td>1.000000e+12</td>\n",
       "      <td>NaN</td>\n",
       "      <td>NaN</td>\n",
       "      <td>NaN</td>\n",
       "      <td>NaN</td>\n",
       "    </tr>\n",
       "    <tr>\n",
       "      <th>61782</th>\n",
       "      <td>3028107140</td>\n",
       "      <td>20201231</td>\n",
       "      <td>NaN</td>\n",
       "      <td>NaN</td>\n",
       "      <td>NaN</td>\n",
       "      <td>NaN</td>\n",
       "      <td>NaN</td>\n",
       "      <td>NaN</td>\n",
       "      <td>NaN</td>\n",
       "      <td>NaN</td>\n",
       "      <td>...</td>\n",
       "      <td>1.000000e+12</td>\n",
       "      <td>8.888889e+11</td>\n",
       "      <td>1.000000e+12</td>\n",
       "      <td>1.000000e+12</td>\n",
       "      <td>1.000000e+12</td>\n",
       "      <td>1.000000e+12</td>\n",
       "      <td>NaN</td>\n",
       "      <td>NaN</td>\n",
       "      <td>NaN</td>\n",
       "      <td>NaN</td>\n",
       "    </tr>\n",
       "    <tr>\n",
       "      <th>61783</th>\n",
       "      <td>3028107140</td>\n",
       "      <td>20211231</td>\n",
       "      <td>NaN</td>\n",
       "      <td>NaN</td>\n",
       "      <td>NaN</td>\n",
       "      <td>NaN</td>\n",
       "      <td>NaN</td>\n",
       "      <td>NaN</td>\n",
       "      <td>NaN</td>\n",
       "      <td>NaN</td>\n",
       "      <td>...</td>\n",
       "      <td>1.000000e+12</td>\n",
       "      <td>8.888889e+11</td>\n",
       "      <td>1.000000e+12</td>\n",
       "      <td>1.000000e+12</td>\n",
       "      <td>1.000000e+12</td>\n",
       "      <td>1.000000e+12</td>\n",
       "      <td>NaN</td>\n",
       "      <td>NaN</td>\n",
       "      <td>NaN</td>\n",
       "      <td>NaN</td>\n",
       "    </tr>\n",
       "  </tbody>\n",
       "</table>\n",
       "<p>577 rows × 46 columns</p>\n",
       "</div>"
      ],
      "text/plain": [
       "           BIZ_NO      결산년월  유동자산  매출채권  비유동자산  유형자산  자산총계  유동부채  비유동부채  \\\n",
       "280    1018164892  20191231   NaN   NaN    NaN   NaN   NaN   NaN    NaN   \n",
       "281    1018164892  20201231   NaN   NaN    NaN   NaN   NaN   NaN    NaN   \n",
       "282    1018164892  20211231   NaN   NaN    NaN   NaN   NaN   NaN    NaN   \n",
       "336    1018179639  20191231   NaN   NaN    NaN   NaN   NaN   NaN    NaN   \n",
       "337    1018179639  20201231   NaN   NaN    NaN   NaN   NaN   NaN    NaN   \n",
       "...           ...       ...   ...   ...    ...   ...   ...   ...    ...   \n",
       "61737  3018635288  20210930   NaN   NaN    NaN   NaN   NaN   NaN    NaN   \n",
       "61738  3018635288  20211231   NaN   NaN    NaN   NaN   NaN   NaN    NaN   \n",
       "61781  3028107140  20191231   NaN   NaN    NaN   NaN   NaN   NaN    NaN   \n",
       "61782  3028107140  20201231   NaN   NaN    NaN   NaN   NaN   NaN    NaN   \n",
       "61783  3028107140  20211231   NaN   NaN    NaN   NaN   NaN   NaN    NaN   \n",
       "\n",
       "       부  채  총  계  ...    비유동부채비율(%)  부채총계대 매출액(%)     총자본회전율(회)  \\\n",
       "280           NaN  ...  1.000000e+12  8.888889e+11  1.000000e+12   \n",
       "281           NaN  ...  1.000000e+12  8.888889e+11  1.000000e+12   \n",
       "282           NaN  ...  1.000000e+12  8.888889e+11  1.000000e+12   \n",
       "336           NaN  ...           NaN           NaN  1.000000e+12   \n",
       "337           NaN  ...  1.000000e+12  8.888889e+11  1.000000e+12   \n",
       "...           ...  ...           ...           ...           ...   \n",
       "61737         NaN  ...  1.000000e+12  8.888889e+11  1.000000e+12   \n",
       "61738         NaN  ...  1.000000e+12  8.888889e+11  1.000000e+12   \n",
       "61781         NaN  ...  1.000000e+12  8.888889e+11  1.000000e+12   \n",
       "61782         NaN  ...  1.000000e+12  8.888889e+11  1.000000e+12   \n",
       "61783         NaN  ...  1.000000e+12  8.888889e+11  1.000000e+12   \n",
       "\n",
       "         재고자산회전율(회)    매출채권회전율(회)    매입채무회전율(회)  미수금  매출원가  무형자산  재고자산  \n",
       "280    1.000000e+12  1.000000e+12  1.000000e+12  NaN   NaN   NaN   NaN  \n",
       "281    1.000000e+12  1.000000e+12  1.000000e+12  NaN   NaN   NaN   NaN  \n",
       "282    1.000000e+12  1.000000e+12  1.000000e+12  NaN   NaN   NaN   NaN  \n",
       "336    1.000000e+12           NaN           NaN  NaN   NaN   NaN   NaN  \n",
       "337    1.000000e+12  1.000000e+12  1.000000e+12  NaN   NaN   NaN   NaN  \n",
       "...             ...           ...           ...  ...   ...   ...   ...  \n",
       "61737  1.000000e+12  1.000000e+12  1.000000e+12  NaN   NaN   NaN   NaN  \n",
       "61738  1.000000e+12  1.000000e+12  1.000000e+12  NaN   NaN   NaN   NaN  \n",
       "61781  1.000000e+12  1.000000e+12  1.000000e+12  NaN   NaN   NaN   NaN  \n",
       "61782  1.000000e+12  1.000000e+12  1.000000e+12  NaN   NaN   NaN   NaN  \n",
       "61783  1.000000e+12  1.000000e+12  1.000000e+12  NaN   NaN   NaN   NaN  \n",
       "\n",
       "[577 rows x 46 columns]"
      ]
     },
     "execution_count": 55,
     "metadata": {},
     "output_type": "execute_result"
    }
   ],
   "source": [
    "# 누락값 확인\n",
    "finance[finance['유동자산'].isna()]"
   ]
  },
  {
   "cell_type": "code",
   "execution_count": 56,
   "id": "c8a16a2b",
   "metadata": {},
   "outputs": [],
   "source": [
    "# 누락값 제거\n",
    "finance = finance[~finance['유동자산'].isna()]"
   ]
  },
  {
   "cell_type": "code",
   "execution_count": 99,
   "id": "02077a3c",
   "metadata": {},
   "outputs": [
    {
     "data": {
      "text/plain": [
       "20181231    16560\n",
       "20191231    14786\n",
       "20201231    13720\n",
       "20211231    13681\n",
       "20180331      291\n",
       "20190331      256\n",
       "20200331      222\n",
       "20210331      211\n",
       "20220331      198\n",
       "20180630      196\n",
       "20190630      186\n",
       "20200630      154\n",
       "20210630      147\n",
       "20190930       82\n",
       "20180930       81\n",
       "20200930       67\n",
       "20210930       63\n",
       "20220630       29\n",
       "20180228       20\n",
       "20180531       18\n",
       "20190228       17\n",
       "20210531       17\n",
       "20190531       16\n",
       "20220531       16\n",
       "20200531       15\n",
       "20200229       13\n",
       "20210228       12\n",
       "20180430       12\n",
       "20191031       12\n",
       "20181031       12\n",
       "20190430       11\n",
       "20180831       11\n",
       "20211130       11\n",
       "20191130        9\n",
       "20220228        9\n",
       "20201130        9\n",
       "20210430        9\n",
       "20200430        8\n",
       "20201031        8\n",
       "20190831        8\n",
       "20220430        8\n",
       "20181130        8\n",
       "20211031        8\n",
       "20210131        8\n",
       "20200131        7\n",
       "20220131        7\n",
       "20200831        6\n",
       "20210831        6\n",
       "20180131        5\n",
       "20190731        4\n",
       "20190131        4\n",
       "20210731        4\n",
       "20180731        3\n",
       "20200731        3\n",
       "Name: 결산년월, dtype: int64"
      ]
     },
     "execution_count": 99,
     "metadata": {},
     "output_type": "execute_result"
    }
   ],
   "source": [
    "# 주요 결산일 확인 -> 결산 기준일 설정 : 매년 12월 31일\n",
    "finance['결산년월'].value_counts()"
   ]
  },
  {
   "cell_type": "code",
   "execution_count": 100,
   "id": "5e154455",
   "metadata": {},
   "outputs": [],
   "source": [
    "# 기업정보와 재무정보를 연도별로 매칭\n",
    "def match_finance(date):\n",
    "    f = finance[finance['결산년월'] == date]\n",
    "    OK_new = pd.merge(OK, f, on = 'BIZ_NO', how = 'outer')\n",
    "    OK_new = OK_new[(~OK_new['유동자산'].isna())& ~OK_new['CMP_NM1'].isna()].reset_index(drop = True)\n",
    "    NG_new = pd.merge(NG, f, on = 'BIZ_NO', how = 'outer')\n",
    "    NG_new = NG_new[(~NG_new['유동자산'].isna())& ~NG_new['CMP_NM'].isna()].reset_index(drop=True)\n",
    "    return OK_new, NG_new"
   ]
  },
  {
   "cell_type": "code",
   "execution_count": 65,
   "id": "6165d41c",
   "metadata": {},
   "outputs": [],
   "source": [
    "OK_2018, NG_2018 = match_finance(20181231)"
   ]
  },
  {
   "cell_type": "code",
   "execution_count": 66,
   "id": "0f087361",
   "metadata": {},
   "outputs": [],
   "source": [
    "OK_2019, NG_2019 = match_finance(20191231)"
   ]
  },
  {
   "cell_type": "code",
   "execution_count": 67,
   "id": "3bfdf6c1",
   "metadata": {},
   "outputs": [],
   "source": [
    "OK_2020, NG_2020 = match_finance(20201231)"
   ]
  },
  {
   "cell_type": "code",
   "execution_count": 68,
   "id": "2144bdb8",
   "metadata": {},
   "outputs": [],
   "source": [
    "OK_2021, NG_2021 = match_finance(20211231)"
   ]
  },
  {
   "cell_type": "code",
   "execution_count": 69,
   "id": "4d0bacb3",
   "metadata": {},
   "outputs": [],
   "source": [
    "# 재무 결산후 1년 안에 망한 기업으로 필터링 \n",
    "NG_2018_final = NG_2018[NG_2018['STAT_OCR_DATE'] <= 20191231].reset_index(drop=True)"
   ]
  },
  {
   "cell_type": "code",
   "execution_count": 70,
   "id": "a0b4d11e",
   "metadata": {},
   "outputs": [],
   "source": [
    "NG_2019_final = NG_2019[NG_2019['STAT_OCR_DATE'] <= 20201231].reset_index(drop=True)"
   ]
  },
  {
   "cell_type": "code",
   "execution_count": 71,
   "id": "a87f7599",
   "metadata": {},
   "outputs": [],
   "source": [
    "NG_2020_final = NG_2020[NG_2020['STAT_OCR_DATE'] <= 20211231].reset_index(drop=True)"
   ]
  },
  {
   "cell_type": "code",
   "execution_count": 72,
   "id": "302cc9b3",
   "metadata": {},
   "outputs": [],
   "source": [
    "NG_2021_final = NG_2021[NG_2021['STAT_OCR_DATE'] <= 20221231].reset_index(drop=True)"
   ]
  },
  {
   "cell_type": "code",
   "execution_count": 190,
   "id": "896d80c1",
   "metadata": {},
   "outputs": [],
   "source": [
    "# 데이터 저장\n",
    "NG_2021.to_csv('./data/NG_2021.csv', index = False)"
   ]
  },
  {
   "cell_type": "code",
   "execution_count": null,
   "id": "acc2884d",
   "metadata": {},
   "outputs": [],
   "source": []
  }
 ],
 "metadata": {
  "kernelspec": {
   "display_name": "Python 3 (ipykernel)",
   "language": "python",
   "name": "python3"
  },
  "language_info": {
   "codemirror_mode": {
    "name": "ipython",
    "version": 3
   },
   "file_extension": ".py",
   "mimetype": "text/x-python",
   "name": "python",
   "nbconvert_exporter": "python",
   "pygments_lexer": "ipython3",
   "version": "3.7.11"
  }
 },
 "nbformat": 4,
 "nbformat_minor": 5
}
